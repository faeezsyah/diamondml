{
 "cells": [
  {
   "cell_type": "code",
   "execution_count": 73,
   "metadata": {},
   "outputs": [],
   "source": [
    "#are there other data that is not here\n",
    "#is it correlated/caused    #target leakage -> time leakage , hving meds predict you sick. but having meds comes after,hence cant use a predictor\n",
    "#do scatterplot of y with all x, see if there is a very high correlation, usually meaning time leakage\n",
    "#is it useful if i do the analysis\n",
    "\n",
    "#bayes theorem\n",
    "\n",
    "#data outlier\n",
    "#inconsistant data entry\n",
    "#duplicated rows                                            ----------\n",
    "#missing NaN, ..\n",
    "\n",
    "#categorical data\n",
    "#unstructured data\n",
    "#normalizastion\n",
    "#parsing dates\n",
    "\n",
    "\n",
    "#data leakage(imputing makes shit weaker)\n"
   ]
  },
  {
   "cell_type": "code",
   "execution_count": 74,
   "metadata": {},
   "outputs": [],
   "source": [
    "import pandas as pd                                             #\n",
    "import numpy as np\n",
    "import matplotlib.pyplot as plt\n",
    "from  sklearn.model_selection import train_test_split        #\n",
    "\n",
    "from sklearn.impute import SimpleImputer\n",
    "\n",
    "from sklearn.preprocessing import OrdinalEncoder\n",
    "from sklearn.preprocessing import OneHotEncoder     #\n",
    "\n",
    "\n",
    "from sklearn.ensemble import RandomForestRegressor\n",
    "from xgboost import XGBRegressor                  #\n",
    "\n",
    "\n",
    "\n",
    "from sklearn.pipeline import Pipeline\n",
    "from sklearn.compose import ColumnTransformer\n",
    "\n",
    "from sklearn.metrics import mean_absolute_percentage_error"
   ]
  },
  {
   "cell_type": "code",
   "execution_count": null,
   "metadata": {},
   "outputs": [],
   "source": [
    "data = pd.read_csv('diamonds.csv')\n",
    "data.head()"
   ]
  },
  {
   "cell_type": "code",
   "execution_count": 75,
   "metadata": {},
   "outputs": [
    {
     "name": "stdout",
     "output_type": "stream",
     "text": [
      "b'Ideal'        21551\n",
      "b'Premium'      13791\n",
      "b'Very Good'    12082\n",
      "b'Good'          4906\n",
      "b'Fair'          1610\n",
      "Name: cut, dtype: int64\n",
      "b'G'    11292\n",
      "b'E'     9797\n",
      "b'F'     9542\n",
      "b'H'     8304\n",
      "b'D'     6775\n",
      "b'I'     5422\n",
      "b'J'     2808\n",
      "Name: color, dtype: int64\n"
     ]
    },
    {
     "data": {
      "text/plain": [
       "b'SI1'     13065\n",
       "b'VS2'     12258\n",
       "b'SI2'      9194\n",
       "b'VS1'      8171\n",
       "b'VVS2'     5066\n",
       "b'VVS1'     3655\n",
       "b'IF'       1790\n",
       "b'I1'        741\n",
       "Name: clarity, dtype: int64"
      ]
     },
     "execution_count": 75,
     "metadata": {},
     "output_type": "execute_result"
    }
   ],
   "source": [
    "\n",
    "print(data['cut'].value_counts())              #check for abnormal data varienceses\n",
    "print(data['color'].value_counts())\n",
    "data['clarity'].value_counts()"
   ]
  },
  {
   "cell_type": "code",
   "execution_count": 76,
   "metadata": {},
   "outputs": [
    {
     "name": "stdout",
     "output_type": "stream",
     "text": [
      "Index(['carat', 'cut', 'color', 'clarity', 'depth', 'table', 'price', ''x'',\n",
      "       ''y'', ''z''],\n",
      "      dtype='object')\n"
     ]
    },
    {
     "data": {
      "text/plain": [
       "carat      float64\n",
       "cut         object\n",
       "color       object\n",
       "clarity     object\n",
       "depth      float64\n",
       "table      float64\n",
       "price      float64\n",
       "'x'        float64\n",
       "'y'        float64\n",
       "'z'        float64\n",
       "dtype: object"
      ]
     },
     "execution_count": 76,
     "metadata": {},
     "output_type": "execute_result"
    }
   ],
   "source": [
    "print(data.columns)\n",
    "data.dtypes"
   ]
  },
  {
   "cell_type": "code",
   "execution_count": 77,
   "metadata": {},
   "outputs": [],
   "source": [
    "#for balls2 in data.columns:\n",
    "    #digma = data[balls2].value_counts()\n",
    "    #print(digma)\n"
   ]
  },
  {
   "cell_type": "code",
   "execution_count": 78,
   "metadata": {},
   "outputs": [],
   "source": [
    "pd.DataFrame(data)\n",
    "\n",
    "data = data.drop_duplicates(keep = 'first', subset = ['carat','cut','color','clarity','price'])           #drop duplicates\n",
    "datacopy = data.copy()\n",
    "xer = data.drop(['price'],axis  = 1)                                                                        #make x\n",
    "yer = data.price                                                                                               #make y\n",
    "\n",
    "\n",
    "X_train, X_test, y_train, y_test = train_test_split(xer, yer, test_size=0.2, random_state=1)                            #test splits\n",
    "\n",
    "X_train, X_val, y_train, y_val = train_test_split(X_train, y_train, test_size=0.25, random_state=1) # 0.25 x 0.8 = 0.2\n",
    "\n",
    "\n",
    "categorical_cols = [c for c in X_train.columns if X_train[c].nunique() < 20 and X_train[c].dtype == 'object']             #drop over categorical\n",
    "\n",
    "numerical_cols = [c1 for c1 in X_train.columns if X_train[c1].dtype in ['float', 'int64']]\n",
    "\n",
    "\n",
    "columns1 = categorical_cols + numerical_cols\n",
    "X_train = X_train[columns1]\n",
    "\n",
    "X_test = X_test[columns1]\n",
    "\n",
    "X_val = X_val[columns1]"
   ]
  },
  {
   "cell_type": "code",
   "execution_count": 79,
   "metadata": {},
   "outputs": [],
   "source": [
    "\n",
    "categorical_prep = Pipeline(steps=[                                                                         #categorical prepeocessing\n",
    "    ('Simpleimputer',SimpleImputer(strategy='most_frequent')),                                             #data processing ,Feature imputing\n",
    "    ('OneHotEncoder1',OneHotEncoder(handle_unknown='ignore'))                                               #data processing ,Feature encoding\n",
    "])\n",
    "\n",
    "numerical_prep = SimpleImputer(strategy='constant')                                          #numerical preprocessing #data processing ,Feature imputing\n",
    "\n",
    "preprocesses = ColumnTransformer(                                                                \n",
    "    transformers=[\n",
    "    ('num',numerical_prep,numerical_cols),\n",
    "    ('cat',categorical_prep,categorical_cols)\n",
    "\n",
    "\n",
    "])"
   ]
  },
  {
   "cell_type": "code",
   "execution_count": 80,
   "metadata": {},
   "outputs": [
    {
     "name": "stderr",
     "output_type": "stream",
     "text": [
      "c:\\Python39\\lib\\site-packages\\xgboost\\sklearn.py:835: UserWarning: `early_stopping_rounds` in `fit` method is deprecated for better compatibility with scikit-learn, use `early_stopping_rounds` in constructor or`set_params` instead.\n",
      "  warnings.warn(\n"
     ]
    },
    {
     "name": "stdout",
     "output_type": "stream",
     "text": [
      "0.08042829173595333\n"
     ]
    }
   ],
   "source": [
    "model = XGBRegressor(n_estimators = 500,learning_rate=0.05, n_jobs=4)                                 #train model,supervised algorithm,xgb\n",
    "\n",
    "thepipes = Pipeline(steps=[\n",
    "    ('preprocesses',preprocesses),\n",
    "    ('model',model)\n",
    "])\n",
    "\n",
    "X_test = preprocesses.fit_transform(X_test)                               #preformat eval_set, to have same columns \n",
    "\n",
    "\n",
    "thepipes.fit(X_train, y_train, \n",
    "model__early_stopping_rounds=5, \n",
    "model__eval_set=[(X_test, y_test)],\n",
    "model__verbose=False )\n",
    "\n",
    "predictions = thepipes.predict(X_val)\n",
    "print(mean_absolute_percentage_error(predictions,y_val))\n"
   ]
  }
 ],
 "metadata": {
  "kernelspec": {
   "display_name": "Python 3",
   "language": "python",
   "name": "python3"
  },
  "language_info": {
   "codemirror_mode": {
    "name": "ipython",
    "version": 3
   },
   "file_extension": ".py",
   "mimetype": "text/x-python",
   "name": "python",
   "nbconvert_exporter": "python",
   "pygments_lexer": "ipython3",
   "version": "3.9.12"
  },
  "orig_nbformat": 4,
  "vscode": {
   "interpreter": {
    "hash": "81794d4967e6c3204c66dcd87b604927b115b27c00565d3d43f05ba2f3a2cb0d"
   }
  }
 },
 "nbformat": 4,
 "nbformat_minor": 2
}
